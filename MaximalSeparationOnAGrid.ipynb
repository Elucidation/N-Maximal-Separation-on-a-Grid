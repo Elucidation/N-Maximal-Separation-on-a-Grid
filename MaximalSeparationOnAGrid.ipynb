{
 "cells": [
  {
   "cell_type": "markdown",
   "metadata": {},
   "source": [
    "# N Maximal Separation on a Grid\n",
    "Let's lay out the problem, we have an 8x8 grid of cells. \n",
    "\n",
    "|   |   |   |   |   |   |   |   |\n",
    "|---|---|---|---|---|---|---|---|\n",
    "|   |   |   |   |   |   |   |   |\n",
    "|   |   |   |   |   |   |   |   |\n",
    "|   |   |   |   |   |   |   |   |\n",
    "|   |   |   |   |   |   |   |   |\n",
    "|   |   |   |   |   |   |   |   |\n",
    "|   |   |   |   |   |   |   |   |\n",
    "|   |   |   |   |   |   |   |   |  |\n",
    "\n",
    "We want to select 8 of those cells such that\n",
    "\n",
    "* No two cells lie on the same row or column\n",
    "* The sum of the distances between every cell is maximized\n",
    "\n",
    "For example, we could just put one along the diagonal\n",
    "\n",
    "| x |   |   |   |   |   |   |   |\n",
    "|:-:|:-:|:-:|:-:|:-:|:-:|:-:|:-:|\n",
    "|   | x |   |   |   |   |   |   |\n",
    "|   |   | x |   |   |   |   |   |\n",
    "|   |   |   | x |   |   |   |   |\n",
    "|   |   |   |   | x |   |   |   |\n",
    "|   |   |   |   |   | x |   |   |\n",
    "|   |   |   |   |   |   | x |   |\n",
    "|   |   |   |   |   |   |   | x |\n",
    "\n",
    "But it's pretty clear from inspection that the sum of distances is not maximized (the distance between each row for example is $\\sqrt(2)$, let's write some helper functions and quickly calculate this example"
   ]
  },
  {
   "cell_type": "code",
   "execution_count": 1,
   "metadata": {
    "collapsed": false
   },
   "outputs": [
    {
     "name": "stdout",
     "output_type": "stream",
     "text": [
      "Populating the interactive namespace from numpy and matplotlib\n"
     ]
    }
   ],
   "source": [
    "# Helper functions\n",
    "%pylab inline\n",
    "import numpy as np\n",
    "import itertools\n",
    "\n",
    "def displayGrid(fill_cells,n=8):\n",
    "    print(\"Displaying %dx%d using %d cells\" % (n,n, fill_cells.shape[0]))\n",
    "    row_labels = range(1,n+1)\n",
    "    col_labels = range(1,n+1)\n",
    "    grid = np.zeros([n,n])\n",
    "    grid[fill_cells[:,0]-1, fill_cells[:,1]-1] = 1\n",
    "    \n",
    "    plt.matshow(grid)\n",
    "    plt.xticks(range(n), col_labels)\n",
    "    plt.yticks(range(n), row_labels)\n",
    "    plt.show()\n",
    "\n",
    "def sumDistances(pts):\n",
    "    total_dist = 0\n",
    "    k = pts.shape[0] # number of pts\n",
    "    # Sum of all pairs of distances (skipping mirrored comparisons)\n",
    "    for i in range(k):\n",
    "        for j in range(i+1,k):\n",
    "            total_dist += np.sqrt(np.sum(np.power( pts[j,:] - pts[i,:], 2)))\n",
    "    return total_dist"
   ]
  },
  {
   "cell_type": "markdown",
   "metadata": {},
   "source": [
    "Alright, lets create a set of filled cells along the diagonal, display it and calculate the sum distances between them."
   ]
  },
  {
   "cell_type": "code",
   "execution_count": 2,
   "metadata": {
    "collapsed": false
   },
   "outputs": [
    {
     "name": "stdout",
     "output_type": "stream",
     "text": [
      "Displaying 8x8 using 8 cells\n"
     ]
    },
    {
     "data": {
      "image/png": "[encoded data removed]",
      "text/plain": [
       "<matplotlib.figure.Figure at 0x150cc489080>"
      ]
     },
     "metadata": {},
     "output_type": "display_data"
    },
    {
     "name": "stdout",
     "output_type": "stream",
     "text": [
      "Cells:  [[1 1]\n",
      " [2 2]\n",
      " [3 3]\n",
      " [4 4]\n",
      " [5 5]\n",
      " [6 6]\n",
      " [7 7]\n",
      " [8 8]]\n",
      "SumDist:  118.793939239\n"
     ]
    }
   ],
   "source": [
    "cells = np.array(list(enumerate(range(1,9),1)))\n",
    "displayGrid(cells)\n",
    "print(\"Cells: \", cells)\n",
    "print(\"SumDist: \", sumDistances(cells))"
   ]
  },
  {
   "cell_type": "markdown",
   "metadata": {},
   "source": [
    "\n",
    "The total sum for this arrangement is roughly 118.8 units, since there are $8*8 = 64$ pairs of distances, that's roughly 1.9 units distance on average, we should be able to do better than that.\n",
    "\n",
    "# Finding maximal separation\n",
    "\n",
    "For an 8x8 grid, the problem is probably small enough to brute force. At a first glance, we're choosing 8 cells from 64 cells.\n",
    "\n",
    "$$\n",
    "\\binom{64}{8} = 4\\,426\\,165\\,368\n",
    "$$\n",
    "\n",
    "So around 4 billion possible options. This might be doable, but it would take a while. \n",
    "\n",
    "We can reduce this greatly by noting one of the requirements (*no two cells may share a row or column*). Since we're placing 8 cells on an 8x8 grid, and none of them can share a row, then there has to be exactly 1 cell per row, and 1 cell per column, essentially the only option is which column. This reduces to $8! = 40\\,320$ possible options, just 0.0009% of the previous set!\n",
    "\n",
    "On top of that, since we're looking for maximal separation, we don't care about mirroring horizontally, bringing us down to $\\frac{8!}{2} = 20\\,160$ options to check."
   ]
  },
  {
   "cell_type": "code",
   "execution_count": 3,
   "metadata": {
    "collapsed": true
   },
   "outputs": [],
   "source": [
    "def getAllOptions(n=8):\n",
    "    \"\"\"Return an n!/2 x n array of permuations\"\"\"\n",
    "    num_options = int(np.math.factorial(n)/2)\n",
    "    options = np.zeros([num_options, n], dtype=int)\n",
    "\n",
    "    i = 0\n",
    "    for option in itertools.permutations(range(n)):\n",
    "        if option[0] < option[-1]:\n",
    "            options[i,:] = option\n",
    "            i += 1\n",
    "    return options\n",
    "\n",
    "def calculateAllSumDists(options, display_modulo=1000):\n",
    "    n = options.shape[1]\n",
    "    num_options = options.shape[0]\n",
    "    \n",
    "    # Calculate sum distances for every permutation\n",
    "    all_sumdists = np.zeros(num_options)\n",
    "\n",
    "    # Init fill cells, every row is in order, columns provided from options\n",
    "    cells = np.zeros([n,2])\n",
    "    cells[:,0] = np.arange(1,n+1)\n",
    "\n",
    "    for i in range(num_options):\n",
    "        if (i%display_modulo == 0):\n",
    "            print(\"%5d/%5d...\" % (i, num_options))\n",
    "        cells[:,1] = options[i,:]\n",
    "\n",
    "        all_sumdists[i] = sumDistances(cells)\n",
    "\n",
    "    print(\"Done\")\n",
    "    return all_sumdists"
   ]
  },
  {
   "cell_type": "code",
   "execution_count": 7,
   "metadata": {
    "collapsed": false
   },
   "outputs": [
    {
     "name": "stdout",
     "output_type": "stream",
     "text": [
      "    0/20160...\n",
      " 1000/20160...\n",
      " 2000/20160...\n",
      " 3000/20160...\n",
      " 4000/20160...\n",
      " 5000/20160...\n",
      " 6000/20160...\n",
      " 7000/20160...\n",
      " 8000/20160...\n",
      " 9000/20160...\n",
      "10000/20160...\n",
      "11000/20160...\n",
      "12000/20160...\n",
      "13000/20160...\n",
      "14000/20160...\n",
      "15000/20160...\n",
      "16000/20160...\n",
      "17000/20160...\n",
      "18000/20160...\n",
      "19000/20160...\n",
      "20000/20160...\n",
      "Done\n",
      "Finished in 7.0354 seconds\n"
     ]
    }
   ],
   "source": [
    "# %%timeit -n1 -r1 # measure how long it takes to run this cell (breaks variables made here)\n",
    "from time import sleep, perf_counter as pc\n",
    "t0 = pc()\n",
    "# Generate all 20,160 permutations\n",
    "n = 8\n",
    "options = getAllOptions(n)\n",
    "all_sumdists = calculateAllSumDists(options)\n",
    "print(\"Finished in %3.3f seconds\" % (pc()-t0))"
   ]
  },
  {
   "cell_type": "markdown",
   "metadata": {},
   "source": [
    "Great, we've calculated the sum distances for all 20,160 options, let's have a look at the histogram before we select the best one."
   ]
  },
  {
   "cell_type": "code",
   "execution_count": 8,
   "metadata": {
    "collapsed": false
   },
   "outputs": [
    {
     "data": {
      "image/png": "[encoded data removed]",
      "text/plain": [
       "<matplotlib.figure.Figure at 0x150ce2ed160>"
      ]
     },
     "metadata": {},
     "output_type": "display_data"
    }
   ],
   "source": [
    "hist(all_sumdists, bins=60);"
   ]
  },
  {
   "cell_type": "markdown",
   "metadata": {},
   "source": [
    "Well, looks like our initial diagonal array was special in that it was one of the worst possible orderings for maximal separation. If we were to take a random ordering in this space we'd probably fall somewhere in the bellcurve of around 128 units sum distance. Our best score is around 130 units, let's visualize this pairing."
   ]
  },
  {
   "cell_type": "code",
   "execution_count": 9,
   "metadata": {
    "collapsed": false
   },
   "outputs": [],
   "source": [
    "def getAndDisplayBestOption(all_sumdists, options):\n",
    "    best_idx = np.argmax(all_sumdists)\n",
    "    best_cells = np.array(list(enumerate(options[best_idx,:],1)))\n",
    "    print(best_cells)\n",
    "    displayGrid(best_cells, options.shape[1])"
   ]
  },
  {
   "cell_type": "code",
   "execution_count": 10,
   "metadata": {
    "collapsed": false
   },
   "outputs": [
    {
     "name": "stdout",
     "output_type": "stream",
     "text": [
      "[[1 3]\n",
      " [2 5]\n",
      " [3 1]\n",
      " [4 7]\n",
      " [5 0]\n",
      " [6 6]\n",
      " [7 2]\n",
      " [8 4]]\n",
      "Displaying 8x8 using 8 cells\n"
     ]
    },
    {
     "data": {
      "image/png": "[encoded data removed]",
      "text/plain": [
       "<matplotlib.figure.Figure at 0x150cea80e10>"
      ]
     },
     "metadata": {},
     "output_type": "display_data"
    }
   ],
   "source": [
    "getAndDisplayBestOption(all_sumdists, options)"
   ]
  },
  {
   "cell_type": "markdown",
   "metadata": {},
   "source": [
    "An interesting result, it looks almost like a diamond, or circle trying to maximally space all elements. Surprisingly there are two cells touching each other at (4,7) and (5,8). It'd be interesting to try this with a larger n."
   ]
  },
  {
   "cell_type": "code",
   "execution_count": 12,
   "metadata": {
    "collapsed": false
   },
   "outputs": [
    {
     "name": "stdout",
     "output_type": "stream",
     "text": [
      "    0/181440...\n",
      "10000/181440...\n",
      "20000/181440...\n",
      "30000/181440...\n",
      "40000/181440...\n",
      "50000/181440...\n",
      "60000/181440...\n",
      "70000/181440...\n",
      "80000/181440...\n",
      "90000/181440...\n",
      "100000/181440...\n",
      "110000/181440...\n",
      "120000/181440...\n",
      "130000/181440...\n",
      "140000/181440...\n",
      "150000/181440...\n",
      "160000/181440...\n",
      "170000/181440...\n",
      "180000/181440...\n",
      "Done\n",
      "Finished in 80.937 seconds\n"
     ]
    }
   ],
   "source": [
    "t0 = pc()\n",
    "n = 9\n",
    "options = getAllOptions(n)\n",
    "all_sumdists = calculateAllSumDists(options, display_modulo=10000)\n",
    "print(\"Finished in %3.3f seconds\" % (pc()-t0))"
   ]
  },
  {
   "cell_type": "code",
   "execution_count": 13,
   "metadata": {
    "collapsed": false
   },
   "outputs": [
    {
     "name": "stdout",
     "output_type": "stream",
     "text": [
      "[[1 3]\n",
      " [2 6]\n",
      " [3 1]\n",
      " [4 8]\n",
      " [5 4]\n",
      " [6 0]\n",
      " [7 7]\n",
      " [8 2]\n",
      " [9 5]]\n",
      "Displaying 9x9 using 9 cells\n"
     ]
    },
    {
     "data": {
      "image/png": "[encoded data removed]",
      "text/plain": [
       "<matplotlib.figure.Figure at 0x150ceb83c18>"
      ]
     },
     "metadata": {},
     "output_type": "display_data"
    },
    {
     "data": {
      "image/png": "[encoded data removed]",
      "text/plain": [
       "<matplotlib.figure.Figure at 0x150ceb835f8>"
      ]
     },
     "metadata": {},
     "output_type": "display_data"
    }
   ],
   "source": [
    "hist(all_sumdists, bins=60);\n",
    "getAndDisplayBestOption(all_sumdists, options)"
   ]
  },
  {
   "cell_type": "markdown",
   "metadata": {},
   "source": [
    "A circle with a cell in the middle, starting to look like a diagonal grid."
   ]
  }
 ],
 "metadata": {
  "kernelspec": {
   "display_name": "Python 3",
   "language": "python",
   "name": "python3"
  },
  "language_info": {
   "codemirror_mode": {
    "name": "ipython",
    "version": 3
   },
   "file_extension": ".py",
   "mimetype": "text/x-python",
   "name": "python",
   "nbconvert_exporter": "python",
   "pygments_lexer": "ipython3",
   "version": "3.5.1"
  }
 },
 "nbformat": 4,
 "nbformat_minor": 0
}
